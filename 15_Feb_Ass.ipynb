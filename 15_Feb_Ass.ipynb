{
 "cells": [
  {
   "cell_type": "code",
   "execution_count": 3,
   "id": "9b0c6e13-784b-46b8-a112-1ac77f16e836",
   "metadata": {},
   "outputs": [
    {
     "name": "stdout",
     "output_type": "stream",
     "text": [
      "Process ID: 4454\n"
     ]
    }
   ],
   "source": [
    "# multiprocessing_example.py\n",
    "\n",
    "# Q1. What is multiprocessing in Python? Why is it useful?\n",
    "# Multiprocessing in Python is a module that allows the creation of multiple processes, \n",
    "# each of which runs independently and in parallel. This is useful for performing \n",
    "# computationally intensive tasks or I/O-bound tasks simultaneously, improving \n",
    "# performance and resource utilization on multi-core systems.\n",
    "\n",
    "# Q2. What are the differences between multiprocessing and multithreading?\n",
    "# - Multiprocessing involves creating multiple processes, each with its own Python interpreter\n",
    "#   and memory space, which avoids the Global Interpreter Lock (GIL) and can leverage multiple\n",
    "#   CPU cores. It is suitable for CPU-bound tasks.\n",
    "# - Multithreading involves creating multiple threads within a single process. Threads share\n",
    "#   the same memory space and can be affected by the GIL, which can limit performance for\n",
    "#   CPU-bound tasks but can be useful for I/O-bound tasks.\n",
    "\n",
    "# Q3. Write a Python code to create a process using the multiprocessing module.\n",
    "import multiprocessing\n",
    "import os\n",
    "\n",
    "def print_process_id():\n",
    "    print(f\"Process ID: {os.getpid()}\")\n",
    "\n",
    "if __name__ == \"__main__\":\n",
    "    process = multiprocessing.Process(target=print_process_id)\n",
    "    process.start()\n",
    "    process.join()"
   ]
  },
  {
   "cell_type": "code",
   "execution_count": 2,
   "id": "ac2ea499-13e2-4c9a-a86e-3fa8a4861845",
   "metadata": {},
   "outputs": [
    {
     "name": "stdout",
     "output_type": "stream",
     "text": [
      "Squares: [1, 4, 9, 16]\n",
      "Number: 1\n",
      "Number: 2\n",
      "Number: 3\n",
      "Number: 4\n"
     ]
    }
   ],
   "source": [
    "\n",
    "# Q4. What is a multiprocessing pool in Python? Why is it used?\n",
    "# A multiprocessing pool is a collection of worker processes that can be used to execute\n",
    "# tasks concurrently. It is used to distribute the workload across multiple processes,\n",
    "# making it easier to parallelize and manage tasks.\n",
    "\n",
    "# Q5. How can we create a pool of worker processes in Python using the multiprocessing module?\n",
    "# We can create a pool of worker processes using the Pool class from the multiprocessing module.\n",
    "# This class provides methods to parallelize the execution of a function across multiple input\n",
    "# values.\n",
    "\n",
    "from multiprocessing import Pool\n",
    "\n",
    "def square_number(n):\n",
    "    return n * n\n",
    "\n",
    "if __name__ == \"__main__\":\n",
    "    numbers = [1, 2, 3, 4]\n",
    "    with Pool(processes=4) as pool:\n",
    "        results = pool.map(square_number, numbers)\n",
    "    print(f\"Squares: {results}\")\n",
    "\n",
    "# Q6. Write a Python program to create 4 processes, each process should print a different number\n",
    "from multiprocessing import Process\n",
    "\n",
    "def print_number(number):\n",
    "    print(f\"Number: {number}\")\n",
    "\n",
    "if __name__ == \"__main__\":\n",
    "    numbers = [1, 2, 3, 4]\n",
    "    processes = []\n",
    "    for number in numbers:\n",
    "        process = Process(target=print_number, args=(number,))\n",
    "        processes.append(process)\n",
    "        process.start()\n",
    "    \n",
    "    for process in processes:\n",
    "        process.join()\n"
   ]
  },
  {
   "cell_type": "code",
   "execution_count": null,
   "id": "9ccfd442-5474-48b3-8b6d-c251026631a0",
   "metadata": {},
   "outputs": [],
   "source": []
  }
 ],
 "metadata": {
  "kernelspec": {
   "display_name": "Python 3 (ipykernel)",
   "language": "python",
   "name": "python3"
  },
  "language_info": {
   "codemirror_mode": {
    "name": "ipython",
    "version": 3
   },
   "file_extension": ".py",
   "mimetype": "text/x-python",
   "name": "python",
   "nbconvert_exporter": "python",
   "pygments_lexer": "ipython3",
   "version": "3.10.8"
  }
 },
 "nbformat": 4,
 "nbformat_minor": 5
}
